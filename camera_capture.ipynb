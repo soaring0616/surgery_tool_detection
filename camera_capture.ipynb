{
 "cells": [
  {
   "cell_type": "code",
   "execution_count": 1,
   "id": "f4b4e6d2",
   "metadata": {},
   "outputs": [
    {
     "name": "stderr",
     "output_type": "stream",
     "text": [
      "Warning: Ignoring XDG_SESSION_TYPE=wayland on Gnome. Use QT_QPA_PLATFORM=wayland to run on Wayland anyway.\n"
     ]
    }
   ],
   "source": [
    "import cv2\n",
    "import time\n",
    "\n",
    "cap = cv2.VideoCapture(4)\n",
    "\n",
    "\n",
    "while cap.isOpened():\n",
    "    d, f = cap.read()\n",
    "    if not d: break\n",
    "    \n",
    "    cv2.imshow('f', f)\n",
    "    \n",
    "    k = cv2.waitKey(33)\n",
    "    if k == ord('q'):\n",
    "        break\n",
    "    elif k == ord('a') :\n",
    "        cv2.imwrite(f\"{int(time.time())}.png\", f)\n",
    "\n",
    "cap.release()\n",
    "cv2.destroyAllWindows()"
   ]
  },
  {
   "cell_type": "markdown",
   "id": "f590f4fa",
   "metadata": {},
   "source": [
    "## Video recording"
   ]
  },
  {
   "cell_type": "code",
   "execution_count": 1,
   "id": "d02ad762",
   "metadata": {},
   "outputs": [
    {
     "name": "stdout",
     "output_type": "stream",
     "text": [
      "按下 'a' 開始錄製，'q' 停止錄製並退出\n"
     ]
    },
    {
     "name": "stderr",
     "output_type": "stream",
     "text": [
      "Warning: Ignoring XDG_SESSION_TYPE=wayland on Gnome. Use QT_QPA_PLATFORM=wayland to run on Wayland anyway.\n"
     ]
    },
    {
     "name": "stdout",
     "output_type": "stream",
     "text": [
      "開始錄製...\n",
      "錄製結束\n"
     ]
    }
   ],
   "source": [
    "import cv2\n",
    "\n",
    "# 初始化攝影鏡頭\n",
    "cap = cv2.VideoCapture(4)\n",
    "\n",
    "# 設置錄製的編碼格式和參數（這裡使用 XVID 編碼器）\n",
    "fourcc = cv2.VideoWriter_fourcc(*'mp4v')\n",
    "out = None  # 初始化錄製變量\n",
    "recording = False  # 是否正在錄製的標誌\n",
    "\n",
    "# 檢查攝影鏡頭是否已正確打開\n",
    "if not cap.isOpened():\n",
    "    print(\"無法開啟攝影鏡頭\")\n",
    "    exit()\n",
    "\n",
    "print(\"按下 'a' 開始錄製，'q' 停止錄製並退出\")\n",
    "\n",
    "while True:\n",
    "    # 讀取攝影鏡頭的畫面\n",
    "    ret, frame = cap.read()\n",
    "    \n",
    "    # 如果讀取失敗則退出\n",
    "    if not ret:\n",
    "        print(\"無法讀取影像\")\n",
    "        break\n",
    "    \n",
    "    # 顯示畫面\n",
    "    cv2.imshow('Camera', frame)\n",
    "\n",
    "    # 按鍵檢查\n",
    "    key = cv2.waitKey(1) & 0xFF\n",
    "    \n",
    "    # 如果按下 'a' 鍵，開始錄製\n",
    "    if key == ord('a') and not recording:\n",
    "        # 設置錄影的參數和檔案名稱\n",
    "        out = cv2.VideoWriter('output2.mp4', fourcc, 20.0, (frame.shape[1], frame.shape[0]))\n",
    "        recording = True\n",
    "        print(\"開始錄製...\")\n",
    "    \n",
    "    # 如果正在錄製，將影像寫入檔案\n",
    "    if recording:\n",
    "        out.write(frame)\n",
    "    \n",
    "    # 如果按下 'q' 鍵，停止錄製並退出\n",
    "    if key == ord('q'):\n",
    "        print(\"錄製結束\")\n",
    "        break\n",
    "\n",
    "# 釋放攝影鏡頭和錄影物件，關閉所有視窗\n",
    "cap.release()\n",
    "if recording:\n",
    "    out.release()\n",
    "cv2.destroyAllWindows()\n"
   ]
  }
 ],
 "metadata": {
  "kernelspec": {
   "display_name": "Python 3 (ipykernel)",
   "language": "python",
   "name": "python3"
  },
  "language_info": {
   "codemirror_mode": {
    "name": "ipython",
    "version": 3
   },
   "file_extension": ".py",
   "mimetype": "text/x-python",
   "name": "python",
   "nbconvert_exporter": "python",
   "pygments_lexer": "ipython3",
   "version": "3.10.12"
  }
 },
 "nbformat": 4,
 "nbformat_minor": 5
}
